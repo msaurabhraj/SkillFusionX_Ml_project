{
 "cells": [
  {
   "cell_type": "markdown",
   "id": "3857416b",
   "metadata": {
    "papermill": {
     "duration": 0.049701,
     "end_time": "2022-11-06T21:26:53.203016",
     "exception": false,
     "start_time": "2022-11-06T21:26:53.153315",
     "status": "completed"
    },
    "tags": []
   },
   "source": [
    "<h1>FIFA 23 ML Project  <img src=\"https://img.icons8.com/color/48/null/football-team.png\"/></h1>"
   ]
  },
  {
   "cell_type": "code",
   "execution_count": 1,
   "id": "61247d6f",
   "metadata": {
    "execution": {
     "iopub.execute_input": "2022-11-06T21:26:53.296994Z",
     "iopub.status.busy": "2022-11-06T21:26:53.296350Z",
     "iopub.status.idle": "2022-11-06T21:26:54.349459Z",
     "shell.execute_reply": "2022-11-06T21:26:54.348536Z"
    },
    "papermill": {
     "duration": 1.104226,
     "end_time": "2022-11-06T21:26:54.352760",
     "exception": false,
     "start_time": "2022-11-06T21:26:53.248534",
     "status": "completed"
    },
    "tags": []
   },
   "outputs": [],
   "source": [
    "import pandas as pd \n",
    "import numpy as np\n",
    "import seaborn as sns\n",
    "import matplotlib.pyplot as plt"
   ]
  },
  {
   "cell_type": "code",
   "execution_count": 2,
   "id": "8fd57f6f",
   "metadata": {
    "execution": {
     "iopub.execute_input": "2022-11-06T21:26:54.446466Z",
     "iopub.status.busy": "2022-11-06T21:26:54.445772Z",
     "iopub.status.idle": "2022-11-06T21:26:54.449988Z",
     "shell.execute_reply": "2022-11-06T21:26:54.449201Z"
    },
    "papermill": {
     "duration": 0.053107,
     "end_time": "2022-11-06T21:26:54.452142",
     "exception": false,
     "start_time": "2022-11-06T21:26:54.399035",
     "status": "completed"
    },
    "tags": []
   },
   "outputs": [],
   "source": [
    "import warnings\n",
    "warnings.filterwarnings('ignore')"
   ]
  },
  {
   "cell_type": "code",
   "execution_count": 3,
   "id": "eb3b7b78",
   "metadata": {
    "execution": {
     "iopub.execute_input": "2022-11-06T21:26:54.545501Z",
     "iopub.status.busy": "2022-11-06T21:26:54.544349Z",
     "iopub.status.idle": "2022-11-06T21:26:54.924257Z",
     "shell.execute_reply": "2022-11-06T21:26:54.921741Z"
    },
    "papermill": {
     "duration": 0.431015,
     "end_time": "2022-11-06T21:26:54.928118",
     "exception": false,
     "start_time": "2022-11-06T21:26:54.497103",
     "status": "completed"
    },
    "tags": []
   },
   "outputs": [
    {
     "data": {
      "text/html": [
       "<div>\n",
       "<style scoped>\n",
       "    .dataframe tbody tr th:only-of-type {\n",
       "        vertical-align: middle;\n",
       "    }\n",
       "\n",
       "    .dataframe tbody tr th {\n",
       "        vertical-align: top;\n",
       "    }\n",
       "\n",
       "    .dataframe thead th {\n",
       "        text-align: right;\n",
       "    }\n",
       "</style>\n",
       "<table border=\"1\" class=\"dataframe\">\n",
       "  <thead>\n",
       "    <tr style=\"text-align: right;\">\n",
       "      <th></th>\n",
       "      <th>ID</th>\n",
       "      <th>Name</th>\n",
       "      <th>FullName</th>\n",
       "      <th>Age</th>\n",
       "      <th>Height</th>\n",
       "      <th>Weight</th>\n",
       "      <th>PhotoUrl</th>\n",
       "      <th>Nationality</th>\n",
       "      <th>Overall</th>\n",
       "      <th>Potential</th>\n",
       "      <th>...</th>\n",
       "      <th>LMRating</th>\n",
       "      <th>CMRating</th>\n",
       "      <th>RMRating</th>\n",
       "      <th>LWBRating</th>\n",
       "      <th>CDMRating</th>\n",
       "      <th>RWBRating</th>\n",
       "      <th>LBRating</th>\n",
       "      <th>CBRating</th>\n",
       "      <th>RBRating</th>\n",
       "      <th>GKRating</th>\n",
       "    </tr>\n",
       "  </thead>\n",
       "  <tbody>\n",
       "    <tr>\n",
       "      <th>0</th>\n",
       "      <td>158023</td>\n",
       "      <td>L. Messi</td>\n",
       "      <td>Lionel Messi</td>\n",
       "      <td>35</td>\n",
       "      <td>169</td>\n",
       "      <td>67</td>\n",
       "      <td>https://cdn.sofifa.net/players/158/023/23_60.png</td>\n",
       "      <td>Argentina</td>\n",
       "      <td>91</td>\n",
       "      <td>91</td>\n",
       "      <td>...</td>\n",
       "      <td>91</td>\n",
       "      <td>88</td>\n",
       "      <td>91</td>\n",
       "      <td>67</td>\n",
       "      <td>66</td>\n",
       "      <td>67</td>\n",
       "      <td>62</td>\n",
       "      <td>53</td>\n",
       "      <td>62</td>\n",
       "      <td>22</td>\n",
       "    </tr>\n",
       "    <tr>\n",
       "      <th>1</th>\n",
       "      <td>165153</td>\n",
       "      <td>K. Benzema</td>\n",
       "      <td>Karim Benzema</td>\n",
       "      <td>34</td>\n",
       "      <td>185</td>\n",
       "      <td>81</td>\n",
       "      <td>https://cdn.sofifa.net/players/165/153/23_60.png</td>\n",
       "      <td>France</td>\n",
       "      <td>91</td>\n",
       "      <td>91</td>\n",
       "      <td>...</td>\n",
       "      <td>89</td>\n",
       "      <td>84</td>\n",
       "      <td>89</td>\n",
       "      <td>67</td>\n",
       "      <td>67</td>\n",
       "      <td>67</td>\n",
       "      <td>63</td>\n",
       "      <td>58</td>\n",
       "      <td>63</td>\n",
       "      <td>21</td>\n",
       "    </tr>\n",
       "    <tr>\n",
       "      <th>2</th>\n",
       "      <td>188545</td>\n",
       "      <td>R. Lewandowski</td>\n",
       "      <td>Robert Lewandowski</td>\n",
       "      <td>33</td>\n",
       "      <td>185</td>\n",
       "      <td>81</td>\n",
       "      <td>https://cdn.sofifa.net/players/188/545/23_60.png</td>\n",
       "      <td>Poland</td>\n",
       "      <td>91</td>\n",
       "      <td>91</td>\n",
       "      <td>...</td>\n",
       "      <td>86</td>\n",
       "      <td>83</td>\n",
       "      <td>86</td>\n",
       "      <td>67</td>\n",
       "      <td>69</td>\n",
       "      <td>67</td>\n",
       "      <td>64</td>\n",
       "      <td>63</td>\n",
       "      <td>64</td>\n",
       "      <td>22</td>\n",
       "    </tr>\n",
       "    <tr>\n",
       "      <th>3</th>\n",
       "      <td>192985</td>\n",
       "      <td>K. De Bruyne</td>\n",
       "      <td>Kevin De Bruyne</td>\n",
       "      <td>31</td>\n",
       "      <td>181</td>\n",
       "      <td>70</td>\n",
       "      <td>https://cdn.sofifa.net/players/192/985/23_60.png</td>\n",
       "      <td>Belgium</td>\n",
       "      <td>91</td>\n",
       "      <td>91</td>\n",
       "      <td>...</td>\n",
       "      <td>91</td>\n",
       "      <td>91</td>\n",
       "      <td>91</td>\n",
       "      <td>82</td>\n",
       "      <td>82</td>\n",
       "      <td>82</td>\n",
       "      <td>78</td>\n",
       "      <td>72</td>\n",
       "      <td>78</td>\n",
       "      <td>24</td>\n",
       "    </tr>\n",
       "    <tr>\n",
       "      <th>4</th>\n",
       "      <td>231747</td>\n",
       "      <td>K. Mbappé</td>\n",
       "      <td>Kylian Mbappé</td>\n",
       "      <td>23</td>\n",
       "      <td>182</td>\n",
       "      <td>73</td>\n",
       "      <td>https://cdn.sofifa.net/players/231/747/23_60.png</td>\n",
       "      <td>France</td>\n",
       "      <td>91</td>\n",
       "      <td>95</td>\n",
       "      <td>...</td>\n",
       "      <td>92</td>\n",
       "      <td>84</td>\n",
       "      <td>92</td>\n",
       "      <td>70</td>\n",
       "      <td>66</td>\n",
       "      <td>70</td>\n",
       "      <td>66</td>\n",
       "      <td>57</td>\n",
       "      <td>66</td>\n",
       "      <td>21</td>\n",
       "    </tr>\n",
       "  </tbody>\n",
       "</table>\n",
       "<p>5 rows × 90 columns</p>\n",
       "</div>"
      ],
      "text/plain": [
       "       ID            Name            FullName  Age  Height  Weight  \\\n",
       "0  158023        L. Messi        Lionel Messi   35     169      67   \n",
       "1  165153      K. Benzema       Karim Benzema   34     185      81   \n",
       "2  188545  R. Lewandowski  Robert Lewandowski   33     185      81   \n",
       "3  192985    K. De Bruyne     Kevin De Bruyne   31     181      70   \n",
       "4  231747       K. Mbappé       Kylian Mbappé   23     182      73   \n",
       "\n",
       "                                           PhotoUrl Nationality  Overall  \\\n",
       "0  https://cdn.sofifa.net/players/158/023/23_60.png   Argentina       91   \n",
       "1  https://cdn.sofifa.net/players/165/153/23_60.png      France       91   \n",
       "2  https://cdn.sofifa.net/players/188/545/23_60.png      Poland       91   \n",
       "3  https://cdn.sofifa.net/players/192/985/23_60.png     Belgium       91   \n",
       "4  https://cdn.sofifa.net/players/231/747/23_60.png      France       91   \n",
       "\n",
       "   Potential  ...  LMRating  CMRating  RMRating LWBRating CDMRating RWBRating  \\\n",
       "0         91  ...        91        88        91        67        66        67   \n",
       "1         91  ...        89        84        89        67        67        67   \n",
       "2         91  ...        86        83        86        67        69        67   \n",
       "3         91  ...        91        91        91        82        82        82   \n",
       "4         95  ...        92        84        92        70        66        70   \n",
       "\n",
       "   LBRating  CBRating  RBRating GKRating  \n",
       "0        62        53        62       22  \n",
       "1        63        58        63       21  \n",
       "2        64        63        64       22  \n",
       "3        78        72        78       24  \n",
       "4        66        57        66       21  \n",
       "\n",
       "[5 rows x 90 columns]"
      ]
     },
     "execution_count": 3,
     "metadata": {},
     "output_type": "execute_result"
    }
   ],
   "source": [
    "data = pd.read_csv(\"players_fifa23.csv\")\n",
    "data.head()"
   ]
  },
  {
   "cell_type": "code",
   "execution_count": 4,
   "id": "13e58ce9",
   "metadata": {
    "execution": {
     "iopub.execute_input": "2022-11-06T21:26:55.031319Z",
     "iopub.status.busy": "2022-11-06T21:26:55.030267Z",
     "iopub.status.idle": "2022-11-06T21:26:55.037507Z",
     "shell.execute_reply": "2022-11-06T21:26:55.036546Z"
    },
    "papermill": {
     "duration": 0.056649,
     "end_time": "2022-11-06T21:26:55.039539",
     "exception": false,
     "start_time": "2022-11-06T21:26:54.982890",
     "status": "completed"
    },
    "tags": []
   },
   "outputs": [
    {
     "data": {
      "text/plain": [
       "(18539, 90)"
      ]
     },
     "execution_count": 4,
     "metadata": {},
     "output_type": "execute_result"
    }
   ],
   "source": [
    "data.shape"
   ]
  },
  {
   "cell_type": "code",
   "execution_count": 5,
   "id": "de1b5334",
   "metadata": {
    "execution": {
     "iopub.execute_input": "2022-11-06T21:26:55.133419Z",
     "iopub.status.busy": "2022-11-06T21:26:55.132792Z",
     "iopub.status.idle": "2022-11-06T21:26:55.150808Z",
     "shell.execute_reply": "2022-11-06T21:26:55.149728Z"
    },
    "papermill": {
     "duration": 0.067812,
     "end_time": "2022-11-06T21:26:55.153225",
     "exception": false,
     "start_time": "2022-11-06T21:26:55.085413",
     "status": "completed"
    },
    "tags": []
   },
   "outputs": [],
   "source": [
    "needed_columns = ['Name', 'Age', 'Height', 'Weight', \"BestPosition\",\n",
    "       'Overall', 'Potential', 'Growth', 'TotalStats',\n",
    "       'BaseStats', 'ValueEUR', 'WageEUR',\n",
    "       'ReleaseClause', 'ContractUntil', 'OnLoad',\n",
    "       'PreferredFoot', 'IntReputation', 'WeakFoot',\n",
    "       'SkillMoves', 'AttackingWorkRate', 'DefensiveWorkRate', 'PaceTotal',\n",
    "       'ShootingTotal', 'PassingTotal', 'DribblingTotal', 'DefendingTotal',\n",
    "       'PhysicalityTotal', 'Crossing', 'Finishing', 'HeadingAccuracy',\n",
    "       'ShortPassing', 'Volleys', 'Dribbling', 'Curve', 'FKAccuracy',\n",
    "       'LongPassing', 'BallControl', 'Acceleration', 'SprintSpeed', 'Agility',\n",
    "       'Reactions', 'Balance', 'ShotPower', 'Jumping', 'Stamina', 'Strength',\n",
    "       'LongShots', 'Aggression', 'Interceptions', 'Positioning', 'Vision',\n",
    "       'Penalties', 'Composure', 'Marking', 'StandingTackle', 'SlidingTackle',\n",
    "       'GKDiving', 'GKHandling', 'GKKicking', 'GKPositioning', 'GKReflexes']\n",
    "\n",
    "\n",
    "data = data[needed_columns]"
   ]
  },
  {
   "cell_type": "markdown",
   "id": "e7a65ccd",
   "metadata": {
    "papermill": {
     "duration": 0.053522,
     "end_time": "2022-11-06T21:27:09.123523",
     "exception": false,
     "start_time": "2022-11-06T21:27:09.070001",
     "status": "completed"
    },
    "tags": []
   },
   "source": [
    "# Data Preprocessing:"
   ]
  },
  {
   "cell_type": "markdown",
   "id": "307ea3fd",
   "metadata": {
    "papermill": {
     "duration": 0.053425,
     "end_time": "2022-11-06T21:27:09.230932",
     "exception": false,
     "start_time": "2022-11-06T21:27:09.177507",
     "status": "completed"
    },
    "tags": []
   },
   "source": [
    "<h3>1. Handle the missing values:</h3>"
   ]
  },
  {
   "cell_type": "code",
   "execution_count": 6,
   "id": "5d61fe97",
   "metadata": {
    "execution": {
     "iopub.execute_input": "2022-11-06T21:27:09.341857Z",
     "iopub.status.busy": "2022-11-06T21:27:09.340853Z",
     "iopub.status.idle": "2022-11-06T21:27:09.506661Z",
     "shell.execute_reply": "2022-11-06T21:27:09.505345Z"
    },
    "papermill": {
     "duration": 0.224168,
     "end_time": "2022-11-06T21:27:09.509397",
     "exception": false,
     "start_time": "2022-11-06T21:27:09.285229",
     "status": "completed"
    },
    "tags": []
   },
   "outputs": [
    {
     "name": "stdout",
     "output_type": "stream",
     "text": [
      "ContractUntil   92\n"
     ]
    }
   ],
   "source": [
    "for i in data.columns:\n",
    "    if data[i].isnull().sum() > 0:\n",
    "        print(i, \" \", data[i].isnull().sum())"
   ]
  },
  {
   "cell_type": "markdown",
   "id": "930b1ce7",
   "metadata": {
    "papermill": {
     "duration": 0.053625,
     "end_time": "2022-11-06T21:27:09.617101",
     "exception": false,
     "start_time": "2022-11-06T21:27:09.563476",
     "status": "completed"
    },
    "tags": []
   },
   "source": [
    "<h4>ContractUntil Column:</h4>"
   ]
  },
  {
   "cell_type": "code",
   "execution_count": 7,
   "id": "69edfec9",
   "metadata": {
    "execution": {
     "iopub.execute_input": "2022-11-06T21:27:09.726079Z",
     "iopub.status.busy": "2022-11-06T21:27:09.725691Z",
     "iopub.status.idle": "2022-11-06T21:27:09.733019Z",
     "shell.execute_reply": "2022-11-06T21:27:09.731577Z"
    },
    "papermill": {
     "duration": 0.064693,
     "end_time": "2022-11-06T21:27:09.735270",
     "exception": false,
     "start_time": "2022-11-06T21:27:09.670577",
     "status": "completed"
    },
    "tags": []
   },
   "outputs": [
    {
     "name": "stdout",
     "output_type": "stream",
     "text": [
      "The percentage of the null values is:  0.49625114623226707 %\n"
     ]
    }
   ],
   "source": [
    "print(\"The percentage of the null values is: \", (data[\"ContractUntil\"].isnull().sum()/data.shape[0])*100, \"%\")"
   ]
  },
  {
   "cell_type": "markdown",
   "id": "6f13d253",
   "metadata": {
    "papermill": {
     "duration": 0.05371,
     "end_time": "2022-11-06T21:27:09.842877",
     "exception": false,
     "start_time": "2022-11-06T21:27:09.789167",
     "status": "completed"
    },
    "tags": []
   },
   "source": [
    "As the percentage of nulls is small so we can drop the values of nulls in that column."
   ]
  },
  {
   "cell_type": "code",
   "execution_count": 8,
   "id": "fe652511",
   "metadata": {
    "execution": {
     "iopub.execute_input": "2022-11-06T21:27:09.953588Z",
     "iopub.status.busy": "2022-11-06T21:27:09.953169Z",
     "iopub.status.idle": "2022-11-06T21:27:09.968997Z",
     "shell.execute_reply": "2022-11-06T21:27:09.967911Z"
    },
    "papermill": {
     "duration": 0.074458,
     "end_time": "2022-11-06T21:27:09.971465",
     "exception": false,
     "start_time": "2022-11-06T21:27:09.897007",
     "status": "completed"
    },
    "tags": []
   },
   "outputs": [],
   "source": [
    "data.drop(data[data[\"ContractUntil\"].isnull()].index, axis = 0, inplace =True)"
   ]
  },
  {
   "cell_type": "code",
   "execution_count": 9,
   "id": "08fd83bf",
   "metadata": {
    "execution": {
     "iopub.execute_input": "2022-11-06T21:27:10.081483Z",
     "iopub.status.busy": "2022-11-06T21:27:10.081036Z",
     "iopub.status.idle": "2022-11-06T21:27:10.088669Z",
     "shell.execute_reply": "2022-11-06T21:27:10.087574Z"
    },
    "papermill": {
     "duration": 0.065254,
     "end_time": "2022-11-06T21:27:10.090920",
     "exception": false,
     "start_time": "2022-11-06T21:27:10.025666",
     "status": "completed"
    },
    "tags": []
   },
   "outputs": [
    {
     "data": {
      "text/plain": [
       "0"
      ]
     },
     "execution_count": 9,
     "metadata": {},
     "output_type": "execute_result"
    }
   ],
   "source": [
    "data[\"ContractUntil\"].isnull().sum()"
   ]
  },
  {
   "cell_type": "markdown",
   "id": "36aea380",
   "metadata": {
    "papermill": {
     "duration": 0.054229,
     "end_time": "2022-11-06T21:27:10.199445",
     "exception": false,
     "start_time": "2022-11-06T21:27:10.145216",
     "status": "completed"
    },
    "tags": []
   },
   "source": [
    "<h3>2. Handle The Categorical Columns:</h3>"
   ]
  },
  {
   "cell_type": "code",
   "execution_count": 10,
   "id": "7f646050",
   "metadata": {
    "execution": {
     "iopub.execute_input": "2022-11-06T21:27:10.309528Z",
     "iopub.status.busy": "2022-11-06T21:27:10.308868Z",
     "iopub.status.idle": "2022-11-06T21:27:10.318443Z",
     "shell.execute_reply": "2022-11-06T21:27:10.316821Z"
    },
    "papermill": {
     "duration": 0.067884,
     "end_time": "2022-11-06T21:27:10.321126",
     "exception": false,
     "start_time": "2022-11-06T21:27:10.253242",
     "status": "completed"
    },
    "tags": []
   },
   "outputs": [
    {
     "name": "stdout",
     "output_type": "stream",
     "text": [
      "Name\n",
      "BestPosition\n",
      "PreferredFoot\n",
      "AttackingWorkRate\n",
      "DefensiveWorkRate\n"
     ]
    }
   ],
   "source": [
    "for i in data.columns:\n",
    "    if data[i].dtype == 'object':\n",
    "        print(i)"
   ]
  },
  {
   "cell_type": "code",
   "execution_count": 11,
   "id": "206bfe23",
   "metadata": {
    "execution": {
     "iopub.execute_input": "2022-11-06T21:27:10.431576Z",
     "iopub.status.busy": "2022-11-06T21:27:10.431184Z",
     "iopub.status.idle": "2022-11-06T21:27:10.584760Z",
     "shell.execute_reply": "2022-11-06T21:27:10.583732Z"
    },
    "papermill": {
     "duration": 0.211433,
     "end_time": "2022-11-06T21:27:10.587342",
     "exception": false,
     "start_time": "2022-11-06T21:27:10.375909",
     "status": "completed"
    },
    "tags": []
   },
   "outputs": [],
   "source": [
    "from sklearn.preprocessing import LabelEncoder\n",
    "\n",
    "le = LabelEncoder()\n",
    "\n",
    "data[\"PreferredFoot\"] = le.fit_transform(data[\"PreferredFoot\"])\n",
    "data[\"AttackingWorkRate\"] = le.fit_transform(data[\"AttackingWorkRate\"])\n",
    "data[\"DefensiveWorkRate\"] = le.fit_transform(data[\"DefensiveWorkRate\"])"
   ]
  },
  {
   "cell_type": "markdown",
   "id": "f7f62640",
   "metadata": {
    "papermill": {
     "duration": 0.05358,
     "end_time": "2022-11-06T21:27:10.695272",
     "exception": false,
     "start_time": "2022-11-06T21:27:10.641692",
     "status": "completed"
    },
    "tags": []
   },
   "source": [
    "<h3>Merge Some Players Positions to reduce the number of classes:</h3>"
   ]
  },
  {
   "cell_type": "code",
   "execution_count": 12,
   "id": "b43be99b",
   "metadata": {
    "execution": {
     "iopub.execute_input": "2022-11-06T21:27:10.807541Z",
     "iopub.status.busy": "2022-11-06T21:27:10.806651Z",
     "iopub.status.idle": "2022-11-06T21:27:10.831066Z",
     "shell.execute_reply": "2022-11-06T21:27:10.830126Z"
    },
    "papermill": {
     "duration": 0.084067,
     "end_time": "2022-11-06T21:27:10.833785",
     "exception": false,
     "start_time": "2022-11-06T21:27:10.749718",
     "status": "completed"
    },
    "tags": []
   },
   "outputs": [],
   "source": [
    "merge_pos = {'LWB' : 'LW', 'RWB': 'RW', 'ST': 'CF', 'CAM': 'CM', 'CDM': 'CM'}\n",
    "\n",
    "data = data.replace({'BestPosition': merge_pos})"
   ]
  },
  {
   "cell_type": "code",
   "execution_count": 13,
   "id": "7ea10e5e",
   "metadata": {
    "execution": {
     "iopub.execute_input": "2022-11-06T21:27:10.944217Z",
     "iopub.status.busy": "2022-11-06T21:27:10.943764Z",
     "iopub.status.idle": "2022-11-06T21:27:10.966712Z",
     "shell.execute_reply": "2022-11-06T21:27:10.965477Z"
    },
    "papermill": {
     "duration": 0.081587,
     "end_time": "2022-11-06T21:27:10.969465",
     "exception": false,
     "start_time": "2022-11-06T21:27:10.887878",
     "status": "completed"
    },
    "tags": []
   },
   "outputs": [],
   "source": [
    "mapping = {'CF': 0, 'CM': 1, 'RW': 2, 'GK': 3, 'CB': 4, 'LW': 5, 'LM': 6, 'LB': 7,'RM': 8, 'RB': 9}\n",
    "\n",
    "data = data.replace({'BestPosition': mapping})"
   ]
  },
  {
   "cell_type": "markdown",
   "id": "7bc5648b",
   "metadata": {
    "papermill": {
     "duration": 0.054228,
     "end_time": "2022-11-06T21:27:11.078987",
     "exception": false,
     "start_time": "2022-11-06T21:27:11.024759",
     "status": "completed"
    },
    "tags": []
   },
   "source": [
    "<h2>Split the Data to Train and Test sets:</h2>"
   ]
  },
  {
   "cell_type": "code",
   "execution_count": 14,
   "id": "6aca54f3",
   "metadata": {
    "execution": {
     "iopub.execute_input": "2022-11-06T21:27:11.190674Z",
     "iopub.status.busy": "2022-11-06T21:27:11.190261Z",
     "iopub.status.idle": "2022-11-06T21:27:11.213477Z",
     "shell.execute_reply": "2022-11-06T21:27:11.212342Z"
    },
    "papermill": {
     "duration": 0.082129,
     "end_time": "2022-11-06T21:27:11.216015",
     "exception": false,
     "start_time": "2022-11-06T21:27:11.133886",
     "status": "completed"
    },
    "tags": []
   },
   "outputs": [],
   "source": [
    "X = data.drop([\"BestPosition\"], axis = 1)\n",
    "Y = pd.DataFrame(data[\"BestPosition\"])\n",
    "\n",
    "top = data.sort_values(by=[\"Overall\"], ascending=False).head(20)"
   ]
  },
  {
   "cell_type": "code",
   "execution_count": 15,
   "id": "8c07dcb9",
   "metadata": {
    "execution": {
     "iopub.execute_input": "2022-11-06T21:27:11.327668Z",
     "iopub.status.busy": "2022-11-06T21:27:11.327235Z",
     "iopub.status.idle": "2022-11-06T21:27:11.391477Z",
     "shell.execute_reply": "2022-11-06T21:27:11.390326Z"
    },
    "papermill": {
     "duration": 0.123367,
     "end_time": "2022-11-06T21:27:11.394118",
     "exception": false,
     "start_time": "2022-11-06T21:27:11.270751",
     "status": "completed"
    },
    "tags": []
   },
   "outputs": [],
   "source": [
    "from sklearn.model_selection import train_test_split\n",
    "X_Train, X_Test, Y_Train, Y_Test = train_test_split(X, Y, test_size=0.20, random_state=42)"
   ]
  },
  {
   "cell_type": "code",
   "execution_count": 16,
   "id": "70cecf73",
   "metadata": {
    "execution": {
     "iopub.execute_input": "2022-11-06T21:27:11.506474Z",
     "iopub.status.busy": "2022-11-06T21:27:11.505750Z",
     "iopub.status.idle": "2022-11-06T21:27:11.517683Z",
     "shell.execute_reply": "2022-11-06T21:27:11.516556Z"
    },
    "papermill": {
     "duration": 0.071521,
     "end_time": "2022-11-06T21:27:11.519959",
     "exception": false,
     "start_time": "2022-11-06T21:27:11.448438",
     "status": "completed"
    },
    "tags": []
   },
   "outputs": [],
   "source": [
    "X_Train = X_Train.drop([\"Name\"], axis = 1)\n",
    "test_names = X_Test[\"Name\"]\n",
    "X_Test = X_Test.drop([\"Name\"], axis = 1)\n",
    "\n",
    "top_pos = top[\"BestPosition\"]\n",
    "top_names = top[\"Name\"]\n",
    "top = top.drop([\"Name\", \"BestPosition\"], axis = 1)"
   ]
  },
  {
   "cell_type": "markdown",
   "id": "8338a807",
   "metadata": {
    "papermill": {
     "duration": 0.053598,
     "end_time": "2022-11-06T21:27:11.628129",
     "exception": false,
     "start_time": "2022-11-06T21:27:11.574531",
     "status": "completed"
    },
    "tags": []
   },
   "source": [
    "<h3>3. Handle the Imbalanced Data:</h3>"
   ]
  },
  {
   "cell_type": "code",
   "execution_count": 17,
   "id": "06b5d306",
   "metadata": {
    "execution": {
     "iopub.execute_input": "2022-11-06T21:27:12.106996Z",
     "iopub.status.busy": "2022-11-06T21:27:12.106573Z",
     "iopub.status.idle": "2022-11-06T21:27:13.417915Z",
     "shell.execute_reply": "2022-11-06T21:27:13.416923Z"
    },
    "papermill": {
     "duration": 1.370863,
     "end_time": "2022-11-06T21:27:13.420613",
     "exception": false,
     "start_time": "2022-11-06T21:27:12.049750",
     "status": "completed"
    },
    "tags": []
   },
   "outputs": [],
   "source": [
    "from imblearn.over_sampling import SMOTE \n",
    "from imblearn.over_sampling  import RandomOverSampler\n",
    "\n",
    "oversample = RandomOverSampler(sampling_strategy='minority')\n",
    "# fit and apply the transform\n",
    "X_Train, Y_Train = oversample.fit_resample(X_Train, Y_Train)\n",
    "X_Train, Y_Train = oversample.fit_resample(X_Train, Y_Train)\n",
    "X_Train, Y_Train = oversample.fit_resample(X_Train, Y_Train)\n",
    "X_Train, Y_Train = oversample.fit_resample(X_Train, Y_Train)"
   ]
  },
  {
   "cell_type": "code",
   "execution_count": 18,
   "id": "f37c5640",
   "metadata": {
    "execution": {
     "iopub.execute_input": "2022-11-06T21:27:13.532711Z",
     "iopub.status.busy": "2022-11-06T21:27:13.532293Z",
     "iopub.status.idle": "2022-11-06T21:27:13.537726Z",
     "shell.execute_reply": "2022-11-06T21:27:13.536652Z"
    },
    "papermill": {
     "duration": 0.064389,
     "end_time": "2022-11-06T21:27:13.539988",
     "exception": false,
     "start_time": "2022-11-06T21:27:13.475599",
     "status": "completed"
    },
    "tags": []
   },
   "outputs": [
    {
     "name": "stdout",
     "output_type": "stream",
     "text": [
      " X_shape: (27732, 59) \n",
      " y_shape: (27732, 1)\n"
     ]
    }
   ],
   "source": [
    "print(f' X_shape: {X_Train.shape} \\n y_shape: {Y_Train.shape}')"
   ]
  },
  {
   "cell_type": "markdown",
   "id": "db74b66a",
   "metadata": {
    "papermill": {
     "duration": 0.055009,
     "end_time": "2022-11-06T21:27:14.013505",
     "exception": false,
     "start_time": "2022-11-06T21:27:13.958496",
     "status": "completed"
    },
    "tags": []
   },
   "source": [
    "<h3>4. Feature Scaling:</h3>"
   ]
  },
  {
   "cell_type": "code",
   "execution_count": 19,
   "id": "5feca944",
   "metadata": {
    "execution": {
     "iopub.execute_input": "2022-11-06T21:27:14.126732Z",
     "iopub.status.busy": "2022-11-06T21:27:14.126302Z",
     "iopub.status.idle": "2022-11-06T21:27:14.493032Z",
     "shell.execute_reply": "2022-11-06T21:27:14.491795Z"
    },
    "papermill": {
     "duration": 0.42653,
     "end_time": "2022-11-06T21:27:14.495860",
     "exception": false,
     "start_time": "2022-11-06T21:27:14.069330",
     "status": "completed"
    },
    "tags": []
   },
   "outputs": [],
   "source": [
    "from sklearn.preprocessing import MinMaxScaler\n",
    "\n",
    "mms = MinMaxScaler()\n",
    "\n",
    "X_Train = mms.fit_transform(X_Train)\n",
    "X_Test = mms.fit_transform(X_Test)\n",
    "\n",
    "top = mms.fit_transform(top)"
   ]
  },
  {
   "cell_type": "markdown",
   "id": "fb100fd8",
   "metadata": {
    "papermill": {
     "duration": 0.055075,
     "end_time": "2022-11-06T21:27:14.606350",
     "exception": false,
     "start_time": "2022-11-06T21:27:14.551275",
     "status": "completed"
    },
    "tags": []
   },
   "source": [
    "# Modeling"
   ]
  },
  {
   "cell_type": "markdown",
   "id": "fff6f8ba",
   "metadata": {
    "papermill": {
     "duration": 0.05456,
     "end_time": "2022-11-06T21:27:14.716059",
     "exception": false,
     "start_time": "2022-11-06T21:27:14.661499",
     "status": "completed"
    },
    "tags": []
   },
   "source": [
    "## A. Predict the Position of the Player Using 8 Classification Algorithms:"
   ]
  },
  {
   "cell_type": "markdown",
   "id": "597d1dcb",
   "metadata": {
    "papermill": {
     "duration": 0.063085,
     "end_time": "2022-11-06T21:29:56.233853",
     "exception": false,
     "start_time": "2022-11-06T21:29:56.170768",
     "status": "completed"
    },
    "tags": []
   },
   "source": [
    "<h3>Light GBM:</h3>"
   ]
  },
  {
   "cell_type": "code",
   "execution_count": 21,
   "id": "42456d20",
   "metadata": {},
   "outputs": [
    {
     "name": "stdout",
     "output_type": "stream",
     "text": [
      "Collecting lightgbm\n",
      "  Obtaining dependency information for lightgbm from https://files.pythonhosted.org/packages/ca/b4/57f3f253721e0a16ea28c49acca92c5b1198eb94fbbb8328d6dabc61d2e0/lightgbm-4.4.0-py3-none-win_amd64.whl.metadata\n",
      "  Downloading lightgbm-4.4.0-py3-none-win_amd64.whl.metadata (19 kB)\n",
      "Requirement already satisfied: numpy>=1.17.0 in c:\\users\\prana\\anaconda3\\lib\\site-packages (from lightgbm) (1.24.3)\n",
      "Requirement already satisfied: scipy in c:\\users\\prana\\anaconda3\\lib\\site-packages (from lightgbm) (1.11.1)\n",
      "Downloading lightgbm-4.4.0-py3-none-win_amd64.whl (1.4 MB)\n",
      "   ---------------------------------------- 0.0/1.4 MB ? eta -:--:--\n",
      "   - -------------------------------------- 0.1/1.4 MB 1.7 MB/s eta 0:00:01\n",
      "   --- ------------------------------------ 0.1/1.4 MB 1.7 MB/s eta 0:00:01\n",
      "   --- ------------------------------------ 0.1/1.4 MB 1.7 MB/s eta 0:00:01\n",
      "   --- ------------------------------------ 0.1/1.4 MB 722.1 kB/s eta 0:00:02\n",
      "   ----- ---------------------------------- 0.2/1.4 MB 958.4 kB/s eta 0:00:02\n",
      "   ------- -------------------------------- 0.3/1.4 MB 1.1 MB/s eta 0:00:02\n",
      "   ---------- ----------------------------- 0.4/1.4 MB 1.3 MB/s eta 0:00:01\n",
      "   -------------- ------------------------- 0.5/1.4 MB 1.5 MB/s eta 0:00:01\n",
      "   --------------- ------------------------ 0.6/1.4 MB 1.5 MB/s eta 0:00:01\n",
      "   --------------- ------------------------ 0.6/1.4 MB 1.5 MB/s eta 0:00:01\n",
      "   ------------------- -------------------- 0.7/1.4 MB 1.4 MB/s eta 0:00:01\n",
      "   -------------------- ------------------- 0.7/1.4 MB 1.3 MB/s eta 0:00:01\n",
      "   ---------------------- ----------------- 0.8/1.4 MB 1.4 MB/s eta 0:00:01\n",
      "   ----------------------- ---------------- 0.8/1.4 MB 1.4 MB/s eta 0:00:01\n",
      "   ------------------------- -------------- 0.9/1.4 MB 1.3 MB/s eta 0:00:01\n",
      "   ------------------------- -------------- 0.9/1.4 MB 1.3 MB/s eta 0:00:01\n",
      "   ------------------------- -------------- 0.9/1.4 MB 1.3 MB/s eta 0:00:01\n",
      "   --------------------------- ------------ 1.0/1.4 MB 1.2 MB/s eta 0:00:01\n",
      "   ---------------------------- ----------- 1.0/1.4 MB 1.2 MB/s eta 0:00:01\n",
      "   ------------------------------ --------- 1.1/1.4 MB 1.2 MB/s eta 0:00:01\n",
      "   -------------------------------- ------- 1.2/1.4 MB 1.2 MB/s eta 0:00:01\n",
      "   -------------------------------- ------- 1.2/1.4 MB 1.2 MB/s eta 0:00:01\n",
      "   ---------------------------------- ----- 1.2/1.4 MB 1.2 MB/s eta 0:00:01\n",
      "   ------------------------------------ --- 1.3/1.4 MB 1.2 MB/s eta 0:00:01\n",
      "   -------------------------------------- - 1.4/1.4 MB 1.2 MB/s eta 0:00:01\n",
      "   ---------------------------------------- 1.4/1.4 MB 1.2 MB/s eta 0:00:00\n",
      "Installing collected packages: lightgbm\n",
      "Successfully installed lightgbm-4.4.0\n"
     ]
    }
   ],
   "source": [
    "!pip install lightgbm"
   ]
  },
  {
   "cell_type": "code",
   "execution_count": 22,
   "id": "fa508899",
   "metadata": {
    "scrolled": true
   },
   "outputs": [
    {
     "name": "stdout",
     "output_type": "stream",
     "text": [
      "[LightGBM] [Info] Auto-choosing col-wise multi-threading, the overhead of testing was 0.008276 seconds.\n",
      "You can set `force_col_wise=true` to remove the overhead.\n",
      "[LightGBM] [Info] Total Bins 4439\n",
      "[LightGBM] [Info] Number of data points in the train set: 27732, number of used features: 59\n",
      "[LightGBM] [Info] Start training from score -2.579222\n",
      "[LightGBM] [Info] Start training from score -1.977115\n",
      "[LightGBM] [Info] Start training from score -1.977115\n",
      "[LightGBM] [Info] Start training from score -2.821206\n",
      "[LightGBM] [Info] Start training from score -2.247926\n",
      "[LightGBM] [Info] Start training from score -1.977115\n",
      "[LightGBM] [Info] Start training from score -1.977115\n",
      "[LightGBM] [Info] Start training from score -1.977115\n",
      "[LightGBM] [Info] Start training from score -3.206583\n",
      "[LightGBM] [Info] Start training from score -3.642792\n",
      "[LightGBM] [Warning] No further splits with positive gain, best gain: -inf\n"
     ]
    },
    {
     "data": {
      "text/html": [
       "<style>#sk-container-id-1 {\n",
       "  /* Definition of color scheme common for light and dark mode */\n",
       "  --sklearn-color-text: black;\n",
       "  --sklearn-color-line: gray;\n",
       "  /* Definition of color scheme for unfitted estimators */\n",
       "  --sklearn-color-unfitted-level-0: #fff5e6;\n",
       "  --sklearn-color-unfitted-level-1: #f6e4d2;\n",
       "  --sklearn-color-unfitted-level-2: #ffe0b3;\n",
       "  --sklearn-color-unfitted-level-3: chocolate;\n",
       "  /* Definition of color scheme for fitted estimators */\n",
       "  --sklearn-color-fitted-level-0: #f0f8ff;\n",
       "  --sklearn-color-fitted-level-1: #d4ebff;\n",
       "  --sklearn-color-fitted-level-2: #b3dbfd;\n",
       "  --sklearn-color-fitted-level-3: cornflowerblue;\n",
       "\n",
       "  /* Specific color for light theme */\n",
       "  --sklearn-color-text-on-default-background: var(--sg-text-color, var(--theme-code-foreground, var(--jp-content-font-color1, black)));\n",
       "  --sklearn-color-background: var(--sg-background-color, var(--theme-background, var(--jp-layout-color0, white)));\n",
       "  --sklearn-color-border-box: var(--sg-text-color, var(--theme-code-foreground, var(--jp-content-font-color1, black)));\n",
       "  --sklearn-color-icon: #696969;\n",
       "\n",
       "  @media (prefers-color-scheme: dark) {\n",
       "    /* Redefinition of color scheme for dark theme */\n",
       "    --sklearn-color-text-on-default-background: var(--sg-text-color, var(--theme-code-foreground, var(--jp-content-font-color1, white)));\n",
       "    --sklearn-color-background: var(--sg-background-color, var(--theme-background, var(--jp-layout-color0, #111)));\n",
       "    --sklearn-color-border-box: var(--sg-text-color, var(--theme-code-foreground, var(--jp-content-font-color1, white)));\n",
       "    --sklearn-color-icon: #878787;\n",
       "  }\n",
       "}\n",
       "\n",
       "#sk-container-id-1 {\n",
       "  color: var(--sklearn-color-text);\n",
       "}\n",
       "\n",
       "#sk-container-id-1 pre {\n",
       "  padding: 0;\n",
       "}\n",
       "\n",
       "#sk-container-id-1 input.sk-hidden--visually {\n",
       "  border: 0;\n",
       "  clip: rect(1px 1px 1px 1px);\n",
       "  clip: rect(1px, 1px, 1px, 1px);\n",
       "  height: 1px;\n",
       "  margin: -1px;\n",
       "  overflow: hidden;\n",
       "  padding: 0;\n",
       "  position: absolute;\n",
       "  width: 1px;\n",
       "}\n",
       "\n",
       "#sk-container-id-1 div.sk-dashed-wrapped {\n",
       "  border: 1px dashed var(--sklearn-color-line);\n",
       "  margin: 0 0.4em 0.5em 0.4em;\n",
       "  box-sizing: border-box;\n",
       "  padding-bottom: 0.4em;\n",
       "  background-color: var(--sklearn-color-background);\n",
       "}\n",
       "\n",
       "#sk-container-id-1 div.sk-container {\n",
       "  /* jupyter's `normalize.less` sets `[hidden] { display: none; }`\n",
       "     but bootstrap.min.css set `[hidden] { display: none !important; }`\n",
       "     so we also need the `!important` here to be able to override the\n",
       "     default hidden behavior on the sphinx rendered scikit-learn.org.\n",
       "     See: https://github.com/scikit-learn/scikit-learn/issues/21755 */\n",
       "  display: inline-block !important;\n",
       "  position: relative;\n",
       "}\n",
       "\n",
       "#sk-container-id-1 div.sk-text-repr-fallback {\n",
       "  display: none;\n",
       "}\n",
       "\n",
       "div.sk-parallel-item,\n",
       "div.sk-serial,\n",
       "div.sk-item {\n",
       "  /* draw centered vertical line to link estimators */\n",
       "  background-image: linear-gradient(var(--sklearn-color-text-on-default-background), var(--sklearn-color-text-on-default-background));\n",
       "  background-size: 2px 100%;\n",
       "  background-repeat: no-repeat;\n",
       "  background-position: center center;\n",
       "}\n",
       "\n",
       "/* Parallel-specific style estimator block */\n",
       "\n",
       "#sk-container-id-1 div.sk-parallel-item::after {\n",
       "  content: \"\";\n",
       "  width: 100%;\n",
       "  border-bottom: 2px solid var(--sklearn-color-text-on-default-background);\n",
       "  flex-grow: 1;\n",
       "}\n",
       "\n",
       "#sk-container-id-1 div.sk-parallel {\n",
       "  display: flex;\n",
       "  align-items: stretch;\n",
       "  justify-content: center;\n",
       "  background-color: var(--sklearn-color-background);\n",
       "  position: relative;\n",
       "}\n",
       "\n",
       "#sk-container-id-1 div.sk-parallel-item {\n",
       "  display: flex;\n",
       "  flex-direction: column;\n",
       "}\n",
       "\n",
       "#sk-container-id-1 div.sk-parallel-item:first-child::after {\n",
       "  align-self: flex-end;\n",
       "  width: 50%;\n",
       "}\n",
       "\n",
       "#sk-container-id-1 div.sk-parallel-item:last-child::after {\n",
       "  align-self: flex-start;\n",
       "  width: 50%;\n",
       "}\n",
       "\n",
       "#sk-container-id-1 div.sk-parallel-item:only-child::after {\n",
       "  width: 0;\n",
       "}\n",
       "\n",
       "/* Serial-specific style estimator block */\n",
       "\n",
       "#sk-container-id-1 div.sk-serial {\n",
       "  display: flex;\n",
       "  flex-direction: column;\n",
       "  align-items: center;\n",
       "  background-color: var(--sklearn-color-background);\n",
       "  padding-right: 1em;\n",
       "  padding-left: 1em;\n",
       "}\n",
       "\n",
       "\n",
       "/* Toggleable style: style used for estimator/Pipeline/ColumnTransformer box that is\n",
       "clickable and can be expanded/collapsed.\n",
       "- Pipeline and ColumnTransformer use this feature and define the default style\n",
       "- Estimators will overwrite some part of the style using the `sk-estimator` class\n",
       "*/\n",
       "\n",
       "/* Pipeline and ColumnTransformer style (default) */\n",
       "\n",
       "#sk-container-id-1 div.sk-toggleable {\n",
       "  /* Default theme specific background. It is overwritten whether we have a\n",
       "  specific estimator or a Pipeline/ColumnTransformer */\n",
       "  background-color: var(--sklearn-color-background);\n",
       "}\n",
       "\n",
       "/* Toggleable label */\n",
       "#sk-container-id-1 label.sk-toggleable__label {\n",
       "  cursor: pointer;\n",
       "  display: block;\n",
       "  width: 100%;\n",
       "  margin-bottom: 0;\n",
       "  padding: 0.5em;\n",
       "  box-sizing: border-box;\n",
       "  text-align: center;\n",
       "}\n",
       "\n",
       "#sk-container-id-1 label.sk-toggleable__label-arrow:before {\n",
       "  /* Arrow on the left of the label */\n",
       "  content: \"▸\";\n",
       "  float: left;\n",
       "  margin-right: 0.25em;\n",
       "  color: var(--sklearn-color-icon);\n",
       "}\n",
       "\n",
       "#sk-container-id-1 label.sk-toggleable__label-arrow:hover:before {\n",
       "  color: var(--sklearn-color-text);\n",
       "}\n",
       "\n",
       "/* Toggleable content - dropdown */\n",
       "\n",
       "#sk-container-id-1 div.sk-toggleable__content {\n",
       "  max-height: 0;\n",
       "  max-width: 0;\n",
       "  overflow: hidden;\n",
       "  text-align: left;\n",
       "  /* unfitted */\n",
       "  background-color: var(--sklearn-color-unfitted-level-0);\n",
       "}\n",
       "\n",
       "#sk-container-id-1 div.sk-toggleable__content.fitted {\n",
       "  /* fitted */\n",
       "  background-color: var(--sklearn-color-fitted-level-0);\n",
       "}\n",
       "\n",
       "#sk-container-id-1 div.sk-toggleable__content pre {\n",
       "  margin: 0.2em;\n",
       "  border-radius: 0.25em;\n",
       "  color: var(--sklearn-color-text);\n",
       "  /* unfitted */\n",
       "  background-color: var(--sklearn-color-unfitted-level-0);\n",
       "}\n",
       "\n",
       "#sk-container-id-1 div.sk-toggleable__content.fitted pre {\n",
       "  /* unfitted */\n",
       "  background-color: var(--sklearn-color-fitted-level-0);\n",
       "}\n",
       "\n",
       "#sk-container-id-1 input.sk-toggleable__control:checked~div.sk-toggleable__content {\n",
       "  /* Expand drop-down */\n",
       "  max-height: 200px;\n",
       "  max-width: 100%;\n",
       "  overflow: auto;\n",
       "}\n",
       "\n",
       "#sk-container-id-1 input.sk-toggleable__control:checked~label.sk-toggleable__label-arrow:before {\n",
       "  content: \"▾\";\n",
       "}\n",
       "\n",
       "/* Pipeline/ColumnTransformer-specific style */\n",
       "\n",
       "#sk-container-id-1 div.sk-label input.sk-toggleable__control:checked~label.sk-toggleable__label {\n",
       "  color: var(--sklearn-color-text);\n",
       "  background-color: var(--sklearn-color-unfitted-level-2);\n",
       "}\n",
       "\n",
       "#sk-container-id-1 div.sk-label.fitted input.sk-toggleable__control:checked~label.sk-toggleable__label {\n",
       "  background-color: var(--sklearn-color-fitted-level-2);\n",
       "}\n",
       "\n",
       "/* Estimator-specific style */\n",
       "\n",
       "/* Colorize estimator box */\n",
       "#sk-container-id-1 div.sk-estimator input.sk-toggleable__control:checked~label.sk-toggleable__label {\n",
       "  /* unfitted */\n",
       "  background-color: var(--sklearn-color-unfitted-level-2);\n",
       "}\n",
       "\n",
       "#sk-container-id-1 div.sk-estimator.fitted input.sk-toggleable__control:checked~label.sk-toggleable__label {\n",
       "  /* fitted */\n",
       "  background-color: var(--sklearn-color-fitted-level-2);\n",
       "}\n",
       "\n",
       "#sk-container-id-1 div.sk-label label.sk-toggleable__label,\n",
       "#sk-container-id-1 div.sk-label label {\n",
       "  /* The background is the default theme color */\n",
       "  color: var(--sklearn-color-text-on-default-background);\n",
       "}\n",
       "\n",
       "/* On hover, darken the color of the background */\n",
       "#sk-container-id-1 div.sk-label:hover label.sk-toggleable__label {\n",
       "  color: var(--sklearn-color-text);\n",
       "  background-color: var(--sklearn-color-unfitted-level-2);\n",
       "}\n",
       "\n",
       "/* Label box, darken color on hover, fitted */\n",
       "#sk-container-id-1 div.sk-label.fitted:hover label.sk-toggleable__label.fitted {\n",
       "  color: var(--sklearn-color-text);\n",
       "  background-color: var(--sklearn-color-fitted-level-2);\n",
       "}\n",
       "\n",
       "/* Estimator label */\n",
       "\n",
       "#sk-container-id-1 div.sk-label label {\n",
       "  font-family: monospace;\n",
       "  font-weight: bold;\n",
       "  display: inline-block;\n",
       "  line-height: 1.2em;\n",
       "}\n",
       "\n",
       "#sk-container-id-1 div.sk-label-container {\n",
       "  text-align: center;\n",
       "}\n",
       "\n",
       "/* Estimator-specific */\n",
       "#sk-container-id-1 div.sk-estimator {\n",
       "  font-family: monospace;\n",
       "  border: 1px dotted var(--sklearn-color-border-box);\n",
       "  border-radius: 0.25em;\n",
       "  box-sizing: border-box;\n",
       "  margin-bottom: 0.5em;\n",
       "  /* unfitted */\n",
       "  background-color: var(--sklearn-color-unfitted-level-0);\n",
       "}\n",
       "\n",
       "#sk-container-id-1 div.sk-estimator.fitted {\n",
       "  /* fitted */\n",
       "  background-color: var(--sklearn-color-fitted-level-0);\n",
       "}\n",
       "\n",
       "/* on hover */\n",
       "#sk-container-id-1 div.sk-estimator:hover {\n",
       "  /* unfitted */\n",
       "  background-color: var(--sklearn-color-unfitted-level-2);\n",
       "}\n",
       "\n",
       "#sk-container-id-1 div.sk-estimator.fitted:hover {\n",
       "  /* fitted */\n",
       "  background-color: var(--sklearn-color-fitted-level-2);\n",
       "}\n",
       "\n",
       "/* Specification for estimator info (e.g. \"i\" and \"?\") */\n",
       "\n",
       "/* Common style for \"i\" and \"?\" */\n",
       "\n",
       ".sk-estimator-doc-link,\n",
       "a:link.sk-estimator-doc-link,\n",
       "a:visited.sk-estimator-doc-link {\n",
       "  float: right;\n",
       "  font-size: smaller;\n",
       "  line-height: 1em;\n",
       "  font-family: monospace;\n",
       "  background-color: var(--sklearn-color-background);\n",
       "  border-radius: 1em;\n",
       "  height: 1em;\n",
       "  width: 1em;\n",
       "  text-decoration: none !important;\n",
       "  margin-left: 1ex;\n",
       "  /* unfitted */\n",
       "  border: var(--sklearn-color-unfitted-level-1) 1pt solid;\n",
       "  color: var(--sklearn-color-unfitted-level-1);\n",
       "}\n",
       "\n",
       ".sk-estimator-doc-link.fitted,\n",
       "a:link.sk-estimator-doc-link.fitted,\n",
       "a:visited.sk-estimator-doc-link.fitted {\n",
       "  /* fitted */\n",
       "  border: var(--sklearn-color-fitted-level-1) 1pt solid;\n",
       "  color: var(--sklearn-color-fitted-level-1);\n",
       "}\n",
       "\n",
       "/* On hover */\n",
       "div.sk-estimator:hover .sk-estimator-doc-link:hover,\n",
       ".sk-estimator-doc-link:hover,\n",
       "div.sk-label-container:hover .sk-estimator-doc-link:hover,\n",
       ".sk-estimator-doc-link:hover {\n",
       "  /* unfitted */\n",
       "  background-color: var(--sklearn-color-unfitted-level-3);\n",
       "  color: var(--sklearn-color-background);\n",
       "  text-decoration: none;\n",
       "}\n",
       "\n",
       "div.sk-estimator.fitted:hover .sk-estimator-doc-link.fitted:hover,\n",
       ".sk-estimator-doc-link.fitted:hover,\n",
       "div.sk-label-container:hover .sk-estimator-doc-link.fitted:hover,\n",
       ".sk-estimator-doc-link.fitted:hover {\n",
       "  /* fitted */\n",
       "  background-color: var(--sklearn-color-fitted-level-3);\n",
       "  color: var(--sklearn-color-background);\n",
       "  text-decoration: none;\n",
       "}\n",
       "\n",
       "/* Span, style for the box shown on hovering the info icon */\n",
       ".sk-estimator-doc-link span {\n",
       "  display: none;\n",
       "  z-index: 9999;\n",
       "  position: relative;\n",
       "  font-weight: normal;\n",
       "  right: .2ex;\n",
       "  padding: .5ex;\n",
       "  margin: .5ex;\n",
       "  width: min-content;\n",
       "  min-width: 20ex;\n",
       "  max-width: 50ex;\n",
       "  color: var(--sklearn-color-text);\n",
       "  box-shadow: 2pt 2pt 4pt #999;\n",
       "  /* unfitted */\n",
       "  background: var(--sklearn-color-unfitted-level-0);\n",
       "  border: .5pt solid var(--sklearn-color-unfitted-level-3);\n",
       "}\n",
       "\n",
       ".sk-estimator-doc-link.fitted span {\n",
       "  /* fitted */\n",
       "  background: var(--sklearn-color-fitted-level-0);\n",
       "  border: var(--sklearn-color-fitted-level-3);\n",
       "}\n",
       "\n",
       ".sk-estimator-doc-link:hover span {\n",
       "  display: block;\n",
       "}\n",
       "\n",
       "/* \"?\"-specific style due to the `<a>` HTML tag */\n",
       "\n",
       "#sk-container-id-1 a.estimator_doc_link {\n",
       "  float: right;\n",
       "  font-size: 1rem;\n",
       "  line-height: 1em;\n",
       "  font-family: monospace;\n",
       "  background-color: var(--sklearn-color-background);\n",
       "  border-radius: 1rem;\n",
       "  height: 1rem;\n",
       "  width: 1rem;\n",
       "  text-decoration: none;\n",
       "  /* unfitted */\n",
       "  color: var(--sklearn-color-unfitted-level-1);\n",
       "  border: var(--sklearn-color-unfitted-level-1) 1pt solid;\n",
       "}\n",
       "\n",
       "#sk-container-id-1 a.estimator_doc_link.fitted {\n",
       "  /* fitted */\n",
       "  border: var(--sklearn-color-fitted-level-1) 1pt solid;\n",
       "  color: var(--sklearn-color-fitted-level-1);\n",
       "}\n",
       "\n",
       "/* On hover */\n",
       "#sk-container-id-1 a.estimator_doc_link:hover {\n",
       "  /* unfitted */\n",
       "  background-color: var(--sklearn-color-unfitted-level-3);\n",
       "  color: var(--sklearn-color-background);\n",
       "  text-decoration: none;\n",
       "}\n",
       "\n",
       "#sk-container-id-1 a.estimator_doc_link.fitted:hover {\n",
       "  /* fitted */\n",
       "  background-color: var(--sklearn-color-fitted-level-3);\n",
       "}\n",
       "</style><div id=\"sk-container-id-1\" class=\"sk-top-container\"><div class=\"sk-text-repr-fallback\"><pre>LGBMClassifier(max_depth=15)</pre><b>In a Jupyter environment, please rerun this cell to show the HTML representation or trust the notebook. <br />On GitHub, the HTML representation is unable to render, please try loading this page with nbviewer.org.</b></div><div class=\"sk-container\" hidden><div class=\"sk-item\"><div class=\"sk-estimator fitted sk-toggleable\"><input class=\"sk-toggleable__control sk-hidden--visually\" id=\"sk-estimator-id-1\" type=\"checkbox\" checked><label for=\"sk-estimator-id-1\" class=\"sk-toggleable__label fitted sk-toggleable__label-arrow fitted\">&nbsp;LGBMClassifier<span class=\"sk-estimator-doc-link fitted\">i<span>Fitted</span></span></label><div class=\"sk-toggleable__content fitted\"><pre>LGBMClassifier(max_depth=15)</pre></div> </div></div></div></div>"
      ],
      "text/plain": [
       "LGBMClassifier(max_depth=15)"
      ]
     },
     "execution_count": 22,
     "metadata": {},
     "output_type": "execute_result"
    }
   ],
   "source": [
    "from lightgbm import LGBMClassifier\n",
    "\n",
    "lgbm = LGBMClassifier(max_depth = 15)\n",
    "\n",
    "lgbm.fit(X_Train, Y_Train)"
   ]
  },
  {
   "cell_type": "code",
   "execution_count": 46,
   "id": "a19c92df",
   "metadata": {},
   "outputs": [
    {
     "data": {
      "text/plain": [
       "0.9309461993365066"
      ]
     },
     "execution_count": 46,
     "metadata": {},
     "output_type": "execute_result"
    }
   ],
   "source": [
    "from sklearn.neighbors import KNeighborsClassifier\n",
    "\n",
    "knn = KNeighborsClassifier(n_neighbors = 3)\n",
    "knn.fit(X_Train, Y_Train)\n",
    "knn.score(X_Train, Y_Train)"
   ]
  },
  {
   "cell_type": "code",
   "execution_count": 56,
   "id": "c3e03ac6",
   "metadata": {},
   "outputs": [],
   "source": [
    "import pickle\n",
    "\n",
    "pickle.dump(knn, open(\"model20.pkl\", \"wb\"))"
   ]
  },
  {
   "cell_type": "code",
   "execution_count": 57,
   "id": "dbc7b38a",
   "metadata": {},
   "outputs": [
    {
     "name": "stdout",
     "output_type": "stream",
     "text": [
      "Name: L. Messi\n",
      "Predicted Positions: ['CM', 'CM', 'CM']\n",
      "True Best Pos: CM\n",
      "\n",
      "Name: R. Lewandowski\n",
      "Predicted Positions: ['CF', 'CF', 'CF']\n",
      "True Best Pos: CF\n",
      "\n",
      "Name: K. De Bruyne\n",
      "Predicted Positions: ['CM', 'CM', 'CM']\n",
      "True Best Pos: CM\n",
      "\n",
      "Name: K. Mbappé\n",
      "Predicted Positions: ['CF', 'LW', 'LW']\n",
      "True Best Pos: CF\n",
      "\n",
      "Name: K. Benzema\n",
      "Predicted Positions: ['CF', 'CM', 'CF']\n",
      "True Best Pos: CF\n",
      "\n",
      "Name: M. Salah\n",
      "Predicted Positions: ['RW', 'RW', 'RW']\n",
      "True Best Pos: RW\n",
      "\n",
      "Name: T. Courtois\n",
      "Predicted Positions: ['GK', 'GK', 'GK']\n",
      "True Best Pos: GK\n",
      "\n",
      "Name: M. Neuer\n",
      "Predicted Positions: ['GK', 'GK', 'GK']\n",
      "True Best Pos: GK\n",
      "\n",
      "Name: Cristiano Ronaldo\n",
      "Predicted Positions: ['CF', 'CF', 'CF']\n",
      "True Best Pos: CF\n",
      "\n",
      "Name: V. van Dijk\n",
      "Predicted Positions: ['CB', 'CB', 'CB']\n",
      "True Best Pos: CB\n",
      "\n",
      "Name: S. Mané\n",
      "Predicted Positions: ['LW', 'LW', 'LW']\n",
      "True Best Pos: LM\n",
      "\n",
      "Name: N. Kanté\n",
      "Predicted Positions: ['CM', 'RB', 'CM']\n",
      "True Best Pos: CM\n",
      "\n",
      "Name: J. Kimmich\n",
      "Predicted Positions: ['CM', 'CM', 'CM']\n",
      "True Best Pos: CM\n",
      "\n",
      "Name: Ederson\n",
      "Predicted Positions: ['GK', 'GK', 'GK']\n",
      "True Best Pos: GK\n",
      "\n",
      "Name: Alisson\n",
      "Predicted Positions: ['GK', 'GK', 'GK']\n",
      "True Best Pos: GK\n",
      "\n",
      "Name: J. Oblak\n",
      "Predicted Positions: ['GK', 'GK', 'GK']\n",
      "True Best Pos: GK\n",
      "\n",
      "Name: Casemiro\n",
      "Predicted Positions: ['CB', 'CB', 'CB']\n",
      "True Best Pos: CM\n",
      "\n",
      "Name: H. Son\n",
      "Predicted Positions: ['LM', 'LM', 'LM']\n",
      "True Best Pos: LW\n",
      "\n",
      "Name: H. Kane\n",
      "Predicted Positions: ['CF', 'CF', 'CF']\n",
      "True Best Pos: CF\n",
      "\n",
      "Name: Neymar Jr\n",
      "Predicted Positions: ['CM', 'RW', 'RW']\n",
      "True Best Pos: LW\n",
      "\n"
     ]
    }
   ],
   "source": [
    "top = pd.DataFrame(top)\n",
    "\n",
    "# Iterate through each row in the 'top' DataFrame\n",
    "for i in range(top.shape[0]):\n",
    "    # Get the distances and indices of the three nearest neighbors\n",
    "    distances, indices = knn.kneighbors(top.iloc[[i]], n_neighbors=3)\n",
    "    \n",
    "    # Get the predicted positions from the indices\n",
    "    predicted_positions = [knn._y[idx] for idx in indices[0]]\n",
    "    \n",
    "    # Map the predicted positions to their names\n",
    "    pred_names = [list(mapping.keys())[list(mapping.values()).index(pos)] for pos in predicted_positions]\n",
    "    \n",
    "    # Get the true position name\n",
    "    true_pos = list(mapping.keys())[list(mapping.values()).index(top_pos.iloc[i])]\n",
    "    \n",
    "    # Print the results\n",
    "    print(f'Name: {top_names.iloc[i]}\\nPredicted Positions: {pred_names}\\nTrue Best Pos: {true_pos}\\n')"
   ]
  },
  {
   "cell_type": "code",
   "execution_count": 58,
   "id": "ac7b9b3e",
   "metadata": {},
   "outputs": [],
   "source": [
    "model = pickle.load(open(\"model20.pkl\", \"rb\"))"
   ]
  },
  {
   "cell_type": "code",
   "execution_count": 59,
   "id": "b8a598b3",
   "metadata": {},
   "outputs": [
    {
     "name": "stdout",
     "output_type": "stream",
     "text": [
      "Name: L. Messi\n",
      "Predicted Positions: ['CM', 'CM', 'CM']\n",
      "True Best Pos: CM\n",
      "\n",
      "Name: R. Lewandowski\n",
      "Predicted Positions: ['CF', 'CF', 'CF']\n",
      "True Best Pos: CF\n",
      "\n",
      "Name: K. De Bruyne\n",
      "Predicted Positions: ['CM', 'CM', 'CM']\n",
      "True Best Pos: CM\n",
      "\n",
      "Name: K. Mbappé\n",
      "Predicted Positions: ['CF', 'LW', 'LW']\n",
      "True Best Pos: CF\n",
      "\n",
      "Name: K. Benzema\n",
      "Predicted Positions: ['CF', 'CM', 'CF']\n",
      "True Best Pos: CF\n",
      "\n",
      "Name: M. Salah\n",
      "Predicted Positions: ['RW', 'RW', 'RW']\n",
      "True Best Pos: RW\n",
      "\n",
      "Name: T. Courtois\n",
      "Predicted Positions: ['GK', 'GK', 'GK']\n",
      "True Best Pos: GK\n",
      "\n",
      "Name: M. Neuer\n",
      "Predicted Positions: ['GK', 'GK', 'GK']\n",
      "True Best Pos: GK\n",
      "\n",
      "Name: Cristiano Ronaldo\n",
      "Predicted Positions: ['CF', 'CF', 'CF']\n",
      "True Best Pos: CF\n",
      "\n",
      "Name: V. van Dijk\n",
      "Predicted Positions: ['CB', 'CB', 'CB']\n",
      "True Best Pos: CB\n",
      "\n",
      "Name: S. Mané\n",
      "Predicted Positions: ['LW', 'LW', 'LW']\n",
      "True Best Pos: LM\n",
      "\n",
      "Name: N. Kanté\n",
      "Predicted Positions: ['CM', 'RB', 'CM']\n",
      "True Best Pos: CM\n",
      "\n",
      "Name: J. Kimmich\n",
      "Predicted Positions: ['CM', 'CM', 'CM']\n",
      "True Best Pos: CM\n",
      "\n",
      "Name: Ederson\n",
      "Predicted Positions: ['GK', 'GK', 'GK']\n",
      "True Best Pos: GK\n",
      "\n",
      "Name: Alisson\n",
      "Predicted Positions: ['GK', 'GK', 'GK']\n",
      "True Best Pos: GK\n",
      "\n",
      "Name: J. Oblak\n",
      "Predicted Positions: ['GK', 'GK', 'GK']\n",
      "True Best Pos: GK\n",
      "\n",
      "Name: Casemiro\n",
      "Predicted Positions: ['CB', 'CB', 'CB']\n",
      "True Best Pos: CM\n",
      "\n",
      "Name: H. Son\n",
      "Predicted Positions: ['LM', 'LM', 'LM']\n",
      "True Best Pos: LW\n",
      "\n",
      "Name: H. Kane\n",
      "Predicted Positions: ['CF', 'CF', 'CF']\n",
      "True Best Pos: CF\n",
      "\n",
      "Name: Neymar Jr\n",
      "Predicted Positions: ['CM', 'RW', 'RW']\n",
      "True Best Pos: LW\n",
      "\n"
     ]
    }
   ],
   "source": [
    "import pandas as pd\n",
    "\n",
    "# Assuming 'top', 'top_names', 'top_pos', 'model', and 'mapping' are already defined\n",
    "\n",
    "# Create DataFrame for 'top'\n",
    "top = pd.DataFrame(top)\n",
    "\n",
    "for i in range(top.shape[0]):\n",
    "    # Get the distances and indices of the three nearest neighbors\n",
    "    distances, indices = model.kneighbors(top.iloc[[i]], n_neighbors=3)\n",
    "    \n",
    "    # Get the predicted positions from the indices\n",
    "    predicted_positions = [model._y[idx] for idx in indices[0]]\n",
    "    \n",
    "    # Map the predicted positions to their names\n",
    "    pred_names = [list(mapping.keys())[list(mapping.values()).index(pos)] for pos in predicted_positions]\n",
    "    \n",
    "    # Get the true position name\n",
    "    true_pos = list(mapping.keys())[list(mapping.values()).index(top_pos.iloc[i])]\n",
    "    \n",
    "    # Print the results\n",
    "    print(f'Name: {top_names.iloc[i]}\\nPredicted Positions: {pred_names}\\nTrue Best Pos: {true_pos}\\n')\n"
   ]
  },
  {
   "cell_type": "code",
   "execution_count": 44,
   "id": "f87e6608",
   "metadata": {},
   "outputs": [],
   "source": []
  },
  {
   "cell_type": "code",
   "execution_count": 45,
   "id": "aa0847e9",
   "metadata": {},
   "outputs": [
    {
     "name": "stdout",
     "output_type": "stream",
     "text": [
      "Name: L. Messi\n",
      "Prediction: CM\n",
      " True Best Pos: CM\n",
      "\n",
      "Name: R. Lewandowski\n",
      "Prediction: CF\n",
      " True Best Pos: CF\n",
      "\n",
      "Name: K. De Bruyne\n",
      "Prediction: CM\n",
      " True Best Pos: CM\n",
      "\n",
      "Name: K. Mbappé\n",
      "Prediction: LW\n",
      " True Best Pos: CF\n",
      "\n",
      "Name: K. Benzema\n",
      "Prediction: CF\n",
      " True Best Pos: CF\n",
      "\n",
      "Name: M. Salah\n",
      "Prediction: RW\n",
      " True Best Pos: RW\n",
      "\n",
      "Name: T. Courtois\n",
      "Prediction: GK\n",
      " True Best Pos: GK\n",
      "\n",
      "Name: M. Neuer\n",
      "Prediction: GK\n",
      " True Best Pos: GK\n",
      "\n",
      "Name: Cristiano Ronaldo\n",
      "Prediction: CF\n",
      " True Best Pos: CF\n",
      "\n",
      "Name: V. van Dijk\n",
      "Prediction: CB\n",
      " True Best Pos: CB\n",
      "\n",
      "Name: S. Mané\n",
      "Prediction: LW\n",
      " True Best Pos: LM\n",
      "\n",
      "Name: N. Kanté\n",
      "Prediction: CM\n",
      " True Best Pos: CM\n",
      "\n",
      "Name: J. Kimmich\n",
      "Prediction: CM\n",
      " True Best Pos: CM\n",
      "\n",
      "Name: Ederson\n",
      "Prediction: GK\n",
      " True Best Pos: GK\n",
      "\n",
      "Name: Alisson\n",
      "Prediction: GK\n",
      " True Best Pos: GK\n",
      "\n",
      "Name: J. Oblak\n",
      "Prediction: GK\n",
      " True Best Pos: GK\n",
      "\n",
      "Name: Casemiro\n",
      "Prediction: CB\n",
      " True Best Pos: CM\n",
      "\n",
      "Name: H. Son\n",
      "Prediction: LM\n",
      " True Best Pos: LW\n",
      "\n",
      "Name: H. Kane\n",
      "Prediction: CF\n",
      " True Best Pos: CF\n",
      "\n",
      "Name: Neymar Jr\n",
      "Prediction: RW\n",
      " True Best Pos: LW\n",
      "\n"
     ]
    }
   ],
   "source": [
    "top = pd.DataFrame(top)\n",
    "\n",
    "for i in range(top.shape[0]):\n",
    "    pred_pos = model.predict(top.iloc[[i]])[0]\n",
    "    \n",
    "    pred = list(mapping.keys())[list(mapping.values()).index(pred_pos)]\n",
    "    true_pos = list(mapping.keys())[list(mapping.values()).index(top_pos.iloc[i])]\n",
    "\n",
    "    print('Name: {}\\nPrediction: {}\\n True Best Pos: {}\\n'.format(top_names.iloc[i], pred, true_pos))"
   ]
  },
  {
   "cell_type": "code",
   "execution_count": 36,
   "id": "833c3387",
   "metadata": {},
   "outputs": [
    {
     "name": "stdout",
     "output_type": "stream",
     "text": [
      "Name: L. Messi\n",
      "Predicted Positions: ['CM', 'CM', 'CM']\n",
      "True Best Pos: CM\n",
      "\n",
      "Name: R. Lewandowski\n",
      "Predicted Positions: ['CF', 'CF', 'CF']\n",
      "True Best Pos: CF\n",
      "\n",
      "Name: K. De Bruyne\n",
      "Predicted Positions: ['CM', 'CM', 'CM']\n",
      "True Best Pos: CM\n",
      "\n",
      "Name: K. Mbappé\n",
      "Predicted Positions: ['CF', 'LW', 'LW']\n",
      "True Best Pos: CF\n",
      "\n",
      "Name: K. Benzema\n",
      "Predicted Positions: ['CF', 'CM', 'CF']\n",
      "True Best Pos: CF\n",
      "\n",
      "Name: M. Salah\n",
      "Predicted Positions: ['RW', 'RW', 'RW']\n",
      "True Best Pos: RW\n",
      "\n",
      "Name: T. Courtois\n",
      "Predicted Positions: ['GK', 'GK', 'GK']\n",
      "True Best Pos: GK\n",
      "\n",
      "Name: M. Neuer\n",
      "Predicted Positions: ['GK', 'GK', 'GK']\n",
      "True Best Pos: GK\n",
      "\n",
      "Name: Cristiano Ronaldo\n",
      "Predicted Positions: ['CF', 'CF', 'CF']\n",
      "True Best Pos: CF\n",
      "\n",
      "Name: V. van Dijk\n",
      "Predicted Positions: ['CB', 'CB', 'CB']\n",
      "True Best Pos: CB\n",
      "\n",
      "Name: S. Mané\n",
      "Predicted Positions: ['LW', 'LW', 'LW']\n",
      "True Best Pos: LM\n",
      "\n",
      "Name: N. Kanté\n",
      "Predicted Positions: ['CM', 'RB', 'CM']\n",
      "True Best Pos: CM\n",
      "\n",
      "Name: J. Kimmich\n",
      "Predicted Positions: ['CM', 'CM', 'CM']\n",
      "True Best Pos: CM\n",
      "\n",
      "Name: Ederson\n",
      "Predicted Positions: ['GK', 'GK', 'GK']\n",
      "True Best Pos: GK\n",
      "\n",
      "Name: Alisson\n",
      "Predicted Positions: ['GK', 'GK', 'GK']\n",
      "True Best Pos: GK\n",
      "\n",
      "Name: J. Oblak\n",
      "Predicted Positions: ['GK', 'GK', 'GK']\n",
      "True Best Pos: GK\n",
      "\n",
      "Name: Casemiro\n",
      "Predicted Positions: ['CB', 'CB', 'CB']\n",
      "True Best Pos: CM\n",
      "\n",
      "Name: H. Son\n",
      "Predicted Positions: ['LM', 'LM', 'LM']\n",
      "True Best Pos: LW\n",
      "\n",
      "Name: H. Kane\n",
      "Predicted Positions: ['CF', 'CF', 'CF']\n",
      "True Best Pos: CF\n",
      "\n",
      "Name: Neymar Jr\n",
      "Predicted Positions: ['CM', 'RW', 'RW']\n",
      "True Best Pos: LW\n",
      "\n"
     ]
    }
   ],
   "source": [
    "import pandas as pd\n",
    "\n",
    "# Assuming 'top', 'knn', 'mapping', 'top_pos', and 'top_names' are already defined\n",
    "\n",
    "# Convert 'top' to DataFrame if it's not already one\n",
    "\n"
   ]
  }
 ],
 "metadata": {
  "kernelspec": {
   "display_name": "Python 3 (ipykernel)",
   "language": "python",
   "name": "python3"
  },
  "language_info": {
   "codemirror_mode": {
    "name": "ipython",
    "version": 3
   },
   "file_extension": ".py",
   "mimetype": "text/x-python",
   "name": "python",
   "nbconvert_exporter": "python",
   "pygments_lexer": "ipython3",
   "version": "3.11.5"
  },
  "papermill": {
   "default_parameters": {},
   "duration": 856.954771,
   "end_time": "2022-11-06T21:41:01.680788",
   "environment_variables": {},
   "exception": null,
   "input_path": "__notebook__.ipynb",
   "output_path": "__notebook__.ipynb",
   "parameters": {},
   "start_time": "2022-11-06T21:26:44.726017",
   "version": "2.3.4"
  },
  "vscode": {
   "interpreter": {
    "hash": "5179d32cf6ec497baf3f8a3ef987cc77c5d2dc691fdde20a56316522f61a7323"
   }
  }
 },
 "nbformat": 4,
 "nbformat_minor": 5
}
